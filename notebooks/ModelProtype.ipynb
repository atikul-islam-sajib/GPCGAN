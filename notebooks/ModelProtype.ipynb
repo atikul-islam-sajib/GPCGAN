{
 "cells": [
  {
   "cell_type": "code",
   "execution_count": 1,
   "metadata": {},
   "outputs": [],
   "source": [
    "import warnings\n",
    "warnings.filterwarnings(\"ignore\")\n",
    "\n",
    "import numpy as np\n",
    "import pandas as pd\n",
    "import matplotlib.pyplot as plt\n",
    "import torch\n",
    "import torch.nn as nn\n",
    "import torch.optim as optim\n",
    "from torchvision import datasets, transforms\n",
    "from torch.utils.data import DataLoader\n",
    "from collections import OrderedDict"
   ]
  },
  {
   "cell_type": "code",
   "execution_count": 2,
   "metadata": {},
   "outputs": [],
   "source": [
    "# Download the dataset\n",
    "transform = transforms.Compose(\n",
    "    [transforms.ToTensor(), transforms.Normalize((0.5,), (0.5,))]\n",
    ")\n",
    "\n",
    "mnist_data = datasets.MNIST(\n",
    "    root=\"../data/raw/\",\n",
    "    train=True,\n",
    "    transform=transforms.ToTensor(),\n",
    "    download=True,\n",
    ")\n",
    "dataloader = DataLoader(mnist_data, batch_size=32, shuffle=True)"
   ]
  },
  {
   "cell_type": "code",
   "execution_count": 3,
   "metadata": {},
   "outputs": [
    {
     "name": "stdout",
     "output_type": "stream",
     "text": [
      "The total quantity of the dataset # 60000\n",
      "The shape of the dataset # torch.Size([32, 1, 28, 28]) \n"
     ]
    }
   ],
   "source": [
    "# check the quantity of the dataset\n",
    "total_data = 0\n",
    "\n",
    "for data, label in dataloader:\n",
    "    total_data+=data.shape[0]\n",
    "\n",
    "print(\"The total quantity of the dataset # {}\".format(total_data))\n",
    "print(\"The shape of the dataset # {} \".format(data.shape))"
   ]
  },
  {
   "cell_type": "code",
   "execution_count": 4,
   "metadata": {},
   "outputs": [
    {
     "name": "stdout",
     "output_type": "stream",
     "text": [
      "Device # mps \n"
     ]
    }
   ],
   "source": [
    "# Call the GPU - MAC\n",
    "device = torch.device(\"mps\" if torch.backends.mps.is_available() else \"cpu\")\n",
    "\n",
    "print(\"Device # {} \".format(device))"
   ]
  },
  {
   "cell_type": "code",
   "execution_count": 5,
   "metadata": {},
   "outputs": [],
   "source": [
    "class Generator(nn.Module):\n",
    "    \"\"\"\n",
    "    A generator class for a Generative Adversarial Network (GAN), particularly used for\n",
    "    generating images. It takes a latent space vector and a label as input and generates\n",
    "    images corresponding to the input label. It utilizes fully connected layers and\n",
    "    LeakyReLU activation for intermediate layers, with a Tanh activation for the output layer.\n",
    "\n",
    "    Attributes:\n",
    "        latent_space (int): Dimensionality of the latent space vector (z), which is a random\n",
    "                            noise input for the generator.\n",
    "        num_labels (int): Number of unique labels for the conditional GAN. It corresponds to\n",
    "                          the number of different classes in the dataset.\n",
    "        labels (nn.Embedding): Embedding layer for the labels, allowing the generator to use\n",
    "                               label information to generate images corresponding to specific classes.\n",
    "        layers_config (list): A list defining the architecture of the neural network. Each\n",
    "                              element in the list is a tuple, with the first two elements\n",
    "                              being the number of input and output features for a layer,\n",
    "                              and the optional third being the negative slope for LeakyReLU.\n",
    "        model (nn.Sequential): The actual neural network model, constructed based on layers_config.\n",
    "                               It comprises fully connected (Linear) layers, LeakyReLU activation\n",
    "                               for non-linearity in intermediate layers, and a Tanh activation function\n",
    "                               in the output layer for generating pixel values.\n",
    "\n",
    "    Methods:\n",
    "        connected_layer(layers_config=None):\n",
    "            Constructs the neural network layers based on layers_config. It initializes the fully\n",
    "            connected layers and the activation functions, specifically using LeakyReLU for intermediate\n",
    "            layers and Tanh for the output layer.\n",
    "\n",
    "        forward(x, labels):\n",
    "            Performs a forward pass of the generator. It takes a latent space vector `x` and its\n",
    "            corresponding labels, processes them through the network, and generates a batch of images.\n",
    "\n",
    "    Note:\n",
    "        - The latent space vector x should be of the shape (N, latent_space) where N is the batch size.\n",
    "        - Labels should be of shape (N,) and contain integers representing class labels.\n",
    "        - The output is a tensor of shape (N, 1, 28, 28), representing generated images of size 28x28 pixels.\n",
    "    \"\"\"\n",
    "\n",
    "    def __init__(self, latent_space=100, num_labels=10):\n",
    "        self.latent_space = latent_space\n",
    "        self.num_labels = num_labels\n",
    "        super(Generator, self).__init__()\n",
    "        self.labels = nn.Embedding(self.num_labels, self.num_labels)\n",
    "        self.layers_config = [\n",
    "            (self.latent_space + self.num_labels, 256, 0.2),\n",
    "            (256, 512, 0.2),\n",
    "            (512, 1024, 0.2),\n",
    "            (1024, 784),\n",
    "        ]\n",
    "        self.model = self.connected_layer(layers_config=self.layers_config)\n",
    "\n",
    "    def connected_layer(self, layers_config=None):\n",
    "        layers = OrderedDict()\n",
    "        if layers_config is not None:\n",
    "            for index, (in_features, out_features, negative_slope) in enumerate(\n",
    "                layers_config[:-1]\n",
    "            ):\n",
    "                layers[\"{}_layer\".format(index)] = nn.Linear(\n",
    "                    in_features=in_features, out_features=out_features\n",
    "                )\n",
    "                layers[\"{}_activation\".format(index)] = nn.LeakyReLU(\n",
    "                    negative_slope=negative_slope\n",
    "                )\n",
    "\n",
    "            (in_features, out_features) = layers_config[-1]\n",
    "            layers[\"output_layer\"] = nn.Linear(\n",
    "                in_features=in_features, out_features=out_features\n",
    "            )\n",
    "            layers[\"output_activation\"] = nn.Tanh()\n",
    "\n",
    "            return nn.Sequential(layers)\n",
    "\n",
    "        else:\n",
    "            raise Exception(\"No layers config provided\".capitalize())\n",
    "\n",
    "    def forward(self, x, labels):\n",
    "        if x is not None:\n",
    "            labels = labels.long()\n",
    "            labels = self.labels(labels)\n",
    "            x = torch.cat([x, labels], dim=1)\n",
    "            x = self.model(x)\n",
    "        else:\n",
    "            raise Exception(\"No input provided in Generator\".capitalize())\n",
    "\n",
    "        return x.reshape(-1, 1, 28, 28)"
   ]
  },
  {
   "cell_type": "code",
   "execution_count": 6,
   "metadata": {},
   "outputs": [
    {
     "name": "stdout",
     "output_type": "stream",
     "text": [
      "TOTAL TRAINABLE PARAMETERS OF GENERATOR # 1489012 \n"
     ]
    }
   ],
   "source": [
    "# Compute the total trainable parameters\n",
    "generator = Generator()\n",
    "\n",
    "total_params = 0\n",
    "for (_, params) in generator.named_parameters():\n",
    "    total_params+=params.numel()\n",
    "\n",
    "print(\"Total trainable parameters of Generator # {} \".format(total_params).upper())"
   ]
  },
  {
   "cell_type": "code",
   "execution_count": 7,
   "metadata": {},
   "outputs": [
    {
     "data": {
      "text/plain": [
       "torch.Size([32, 1, 28, 28])"
      ]
     },
     "execution_count": 7,
     "metadata": {},
     "output_type": "execute_result"
    }
   ],
   "source": [
    "g = Generator()\n",
    "noise_data = torch.randn(32, 100)\n",
    "data, labels = next(iter(dataloader))\n",
    "\n",
    "g(noise_data, labels).shape"
   ]
  },
  {
   "cell_type": "code",
   "execution_count": 8,
   "metadata": {},
   "outputs": [],
   "source": [
    "class Discriminator(nn.Module):\n",
    "    \"\"\"\n",
    "    A discriminator class for a Generative Adversarial Network (GAN), particularly used for\n",
    "    image data with an added conditional label embedding. The discriminator's goal is to\n",
    "    differentiate between real and fake images. It utilizes fully connected layers,\n",
    "    LeakyReLU activation for hidden layers, and a Sigmoid activation for the output layer.\n",
    "\n",
    "    Attributes:\n",
    "        num_labels (int): Number of unique labels for the conditional GAN. For instance,\n",
    "                          in a dataset with 10 different classes, num_labels should be 10.\n",
    "        labels (nn.Embedding): Embedding layer for the labels, which allows the discriminator\n",
    "                               to condition the input on a particular class.\n",
    "        layers_config (list): A list defining the architecture of the neural network. Each\n",
    "                              element in the list is a tuple, with the first two elements\n",
    "                              being the number of input and output features for a layer,\n",
    "                              and the optional third being the negative slope for LeakyReLU.\n",
    "        model (nn.Sequential): The actual neural network model, constructed based on layers_config.\n",
    "                              It comprises fully connected (Linear) layers, LeakyReLU activation\n",
    "                              for non-linearity in hidden layers, and a Sigmoid activation function\n",
    "                              in the output layer to obtain probabilities.\n",
    "\n",
    "    Methods:\n",
    "        connected_layer(layers_config=None):\n",
    "            Constructs the neural network layers based on layers_config. It initializes the fully\n",
    "            connected layers and the activation functions, specifically using LeakyReLU for hidden\n",
    "            layers and Sigmoid for the output layer.\n",
    "\n",
    "        forward(x, labels):\n",
    "            Performs a forward pass of the discriminator. It takes an input batch of images `x`\n",
    "            and their corresponding labels, processes the images and labels through the network,\n",
    "            and outputs a batch of probabilities indicating how likely each image is to be real.\n",
    "\n",
    "    Note:\n",
    "        - The model expects inputs x to be of the shape (N, 784) where N is the batch size.\n",
    "        - Labels should be of shape (N,) and contain integers representing class labels.\n",
    "        - The output is of shape (N, 1), representing the likelihood of each image being real.\n",
    "        - The network architecture is designed to work with flattened images of size 28x28 pixels.\n",
    "    \"\"\"\n",
    "\n",
    "    def __init__(self, num_labels=10):\n",
    "        self.num_labels = num_labels\n",
    "        super(Discriminator, self).__init__()\n",
    "        self.labels = nn.Embedding(self.num_labels, self.num_labels)\n",
    "        self.layers_config = [\n",
    "            (784 + self.num_labels, 1024, 0.2, 0.3),\n",
    "            (1024, 512, 0.2, 0.3),\n",
    "            (512, 256, 0.2, 0.3),\n",
    "            (256, 1),\n",
    "        ]\n",
    "        self.model = self.connected_layer(layers_config=self.layers_config)\n",
    "\n",
    "    def connected_layer(self, layers_config=None):\n",
    "        layers = OrderedDict()\n",
    "        if layers_config is not None:\n",
    "            for index, (in_features, out_features, negative_slope, dropout) in enumerate(\n",
    "                layers_config[:-1]\n",
    "            ):\n",
    "                layers[\"{}_layer\".format(index + 1)] = nn.Linear(\n",
    "                    in_features=in_features, out_features=out_features\n",
    "                )\n",
    "                layers[\"{}_activation\".format(index + 1)] = nn.LeakyReLU(\n",
    "                    negative_slope=negative_slope\n",
    "                )\n",
    "                layers[\"{}_dropout\".format(index + 1)] = nn.Dropout(p = dropout)\n",
    "\n",
    "            (in_features, out_features) = layers_config[-1]\n",
    "            layers[\"output_layer\"] = nn.Linear(\n",
    "                in_features=in_features, out_features=out_features\n",
    "            )\n",
    "            layers[\"output_activation\"] = nn.Sigmoid()\n",
    "\n",
    "            return nn.Sequential(layers)\n",
    "        else:\n",
    "            raise Exception(\"Layers config is not defined properly\".capitalize())\n",
    "\n",
    "    def forward(self, x, labels):\n",
    "        if x is not None:\n",
    "            labels = labels.long()\n",
    "            labels = self.labels(labels)\n",
    "            x = x.reshape(-1, 28 * 28)\n",
    "            x = torch.cat([x, labels], dim=1)\n",
    "            x = self.model(x)\n",
    "        else:\n",
    "            raise Exception(\"Inputs are not defined properly\".capitalize())\n",
    "\n",
    "        return x"
   ]
  },
  {
   "cell_type": "code",
   "execution_count": 9,
   "metadata": {},
   "outputs": [
    {
     "name": "stdout",
     "output_type": "stream",
     "text": [
      "TOTAL NUMBER OF PARAMETERS OF DISCRIMINATOR # 1470565 \n"
     ]
    }
   ],
   "source": [
    "# Compute the total trainable parameters of Discriminator\n",
    "discriminator = Discriminator()\n",
    "total_params = 0\n",
    "\n",
    "for (_, params) in discriminator.named_parameters():\n",
    "    total_params+=params.numel()\n",
    "    \n",
    "print(\"Total number of parameters of Discriminator # {} \".format(total_params).upper())"
   ]
  },
  {
   "cell_type": "code",
   "execution_count": 10,
   "metadata": {},
   "outputs": [
    {
     "data": {
      "text/plain": [
       "torch.Size([32, 1])"
      ]
     },
     "execution_count": 10,
     "metadata": {},
     "output_type": "execute_result"
    }
   ],
   "source": [
    "d = Discriminator()\n",
    "\n",
    "data, label = next(iter(dataloader))\n",
    "d(data, label).shape"
   ]
  },
  {
   "cell_type": "code",
   "execution_count": 11,
   "metadata": {},
   "outputs": [
    {
     "data": {
      "text/plain": [
       "torch.Size([32, 1])"
      ]
     },
     "execution_count": 11,
     "metadata": {},
     "output_type": "execute_result"
    }
   ],
   "source": [
    "d = Discriminator()\n",
    "\n",
    "data = torch.randn(32, 1, 28, 28)\n",
    "\n",
    "d(data, label).shape"
   ]
  },
  {
   "cell_type": "code",
   "execution_count": 12,
   "metadata": {},
   "outputs": [],
   "source": [
    "# Define loss and optimizer\n",
    "loss_function = nn.BCELoss()\n",
    "learning_rate = 0.0002\n",
    "\n",
    "optimizer_generator = optim.Adam(\n",
    "    generator.parameters(), lr=learning_rate, betas=(0.5, 0.999))\n",
    "optimizer_discriminator = optim.Adam(\n",
    "    discriminator.parameters(), lr=learning_rate, betas=(0.5, 0.99))"
   ]
  },
  {
   "cell_type": "code",
   "execution_count": 13,
   "metadata": {},
   "outputs": [
    {
     "name": "stdout",
     "output_type": "stream",
     "text": [
      "Epoch [1/50] Completed\n",
      "[==============] Average d_loss: 0.9048 - Average g_loss: 2.0777\n",
      "Epoch [2/50] Completed\n",
      "[==============] Average d_loss: 0.8817 - Average g_loss: 2.0640\n",
      "Epoch [3/50] Completed\n",
      "[==============] Average d_loss: 0.8733 - Average g_loss: 2.0446\n",
      "Epoch [4/50] Completed\n",
      "[==============] Average d_loss: 0.8540 - Average g_loss: 2.0789\n",
      "Epoch [5/50] Completed\n",
      "[==============] Average d_loss: 0.8296 - Average g_loss: 2.1442\n",
      "Epoch [6/50] Completed\n",
      "[==============] Average d_loss: 0.8019 - Average g_loss: 2.2259\n",
      "Epoch [7/50] Completed\n",
      "[==============] Average d_loss: 0.7734 - Average g_loss: 2.3104\n",
      "Epoch [8/50] Completed\n",
      "[==============] Average d_loss: 0.7465 - Average g_loss: 2.3985\n",
      "Epoch [9/50] Completed\n",
      "[==============] Average d_loss: 0.7212 - Average g_loss: 2.4840\n",
      "Epoch [10/50] Completed\n",
      "[==============] Average d_loss: 0.6999 - Average g_loss: 2.5554\n",
      "Epoch [11/50] Completed\n",
      "[==============] Average d_loss: 0.6803 - Average g_loss: 2.6223\n",
      "Epoch [12/50] Completed\n",
      "[==============] Average d_loss: 0.6638 - Average g_loss: 2.6755\n",
      "Epoch [13/50] Completed\n",
      "[==============] Average d_loss: 0.6476 - Average g_loss: 2.7329\n",
      "Epoch [14/50] Completed\n",
      "[==============] Average d_loss: 0.6316 - Average g_loss: 2.7978\n",
      "Epoch [15/50] Completed\n",
      "[==============] Average d_loss: 0.6177 - Average g_loss: 2.8525\n",
      "Epoch [16/50] Completed\n",
      "[==============] Average d_loss: 0.6036 - Average g_loss: 2.9159\n",
      "Epoch [17/50] Completed\n",
      "[==============] Average d_loss: 0.5903 - Average g_loss: 2.9789\n",
      "Epoch [18/50] Completed\n",
      "[==============] Average d_loss: 0.5775 - Average g_loss: 3.0406\n",
      "Epoch [19/50] Completed\n",
      "[==============] Average d_loss: 0.5648 - Average g_loss: 3.1116\n",
      "Epoch [20/50] Completed\n",
      "[==============] Average d_loss: 0.5541 - Average g_loss: 3.1589\n",
      "Epoch [21/50] Completed\n",
      "[==============] Average d_loss: 0.5428 - Average g_loss: 3.2134\n",
      "Epoch [22/50] Completed\n",
      "[==============] Average d_loss: 0.5336 - Average g_loss: 3.2513\n",
      "Epoch [23/50] Completed\n",
      "[==============] Average d_loss: 0.5245 - Average g_loss: 3.2896\n",
      "Epoch [24/50] Completed\n",
      "[==============] Average d_loss: 0.5156 - Average g_loss: 3.3258\n",
      "Epoch [25/50] Completed\n",
      "[==============] Average d_loss: 0.5079 - Average g_loss: 3.3533\n",
      "Epoch [26/50] Completed\n",
      "[==============] Average d_loss: 0.5004 - Average g_loss: 3.3845\n",
      "Epoch [27/50] Completed\n",
      "[==============] Average d_loss: 0.4941 - Average g_loss: 3.4095\n",
      "Epoch [28/50] Completed\n",
      "[==============] Average d_loss: 0.4880 - Average g_loss: 3.4315\n",
      "Epoch [29/50] Completed\n",
      "[==============] Average d_loss: 0.4817 - Average g_loss: 3.4531\n",
      "Epoch [30/50] Completed\n",
      "[==============] Average d_loss: 0.4761 - Average g_loss: 3.4753\n",
      "Epoch [31/50] Completed\n",
      "[==============] Average d_loss: 0.4701 - Average g_loss: 3.4968\n",
      "Epoch [32/50] Completed\n",
      "[==============] Average d_loss: 0.4658 - Average g_loss: 3.5090\n",
      "Epoch [33/50] Completed\n",
      "[==============] Average d_loss: 0.4605 - Average g_loss: 3.5293\n",
      "Epoch [34/50] Completed\n",
      "[==============] Average d_loss: 0.4562 - Average g_loss: 3.5438\n",
      "Epoch [35/50] Completed\n",
      "[==============] Average d_loss: 0.4520 - Average g_loss: 3.5582\n",
      "Epoch [36/50] Completed\n",
      "[==============] Average d_loss: 0.4481 - Average g_loss: 3.5708\n",
      "Epoch [37/50] Completed\n",
      "[==============] Average d_loss: 0.4440 - Average g_loss: 3.5854\n",
      "Epoch [38/50] Completed\n",
      "[==============] Average d_loss: 0.4406 - Average g_loss: 3.5972\n",
      "Epoch [39/50] Completed\n",
      "[==============] Average d_loss: 0.4372 - Average g_loss: 3.6094\n",
      "Epoch [40/50] Completed\n",
      "[==============] Average d_loss: 0.4336 - Average g_loss: 3.6211\n",
      "Epoch [41/50] Completed\n",
      "[==============] Average d_loss: 0.4299 - Average g_loss: 3.6361\n",
      "Epoch [42/50] Completed\n",
      "[==============] Average d_loss: 0.4272 - Average g_loss: 3.6440\n",
      "Epoch [43/50] Completed\n",
      "[==============] Average d_loss: 0.4242 - Average g_loss: 3.6549\n",
      "Epoch [44/50] Completed\n",
      "[==============] Average d_loss: 0.4215 - Average g_loss: 3.6627\n",
      "Epoch [45/50] Completed\n",
      "[==============] Average d_loss: 0.4187 - Average g_loss: 3.6731\n",
      "Epoch [46/50] Completed\n",
      "[==============] Average d_loss: 0.4163 - Average g_loss: 3.6805\n",
      "Epoch [47/50] Completed\n",
      "[==============] Average d_loss: 0.4136 - Average g_loss: 3.6906\n",
      "Epoch [48/50] Completed\n",
      "[==============] Average d_loss: 0.4108 - Average g_loss: 3.7012\n",
      "Epoch [49/50] Completed\n",
      "[==============] Average d_loss: 0.4086 - Average g_loss: 3.7085\n",
      "Epoch [50/50] Completed\n",
      "[==============] Average d_loss: 0.4060 - Average g_loss: 3.7194\n"
     ]
    }
   ],
   "source": [
    "epochs = 50\n",
    "latent_space = 100\n",
    "discriminator_loss = []\n",
    "generator_loss = []\n",
    "\n",
    "for epoch in range(epochs):\n",
    "    d_loss = []\n",
    "    g_loss = []\n",
    "    for real_samples, labels in dataloader:\n",
    "        # Convert labels to long, ensuring they are in the correct format for the embedding layer\n",
    "        labels = labels\n",
    "        batch_size = real_samples.shape[0]\n",
    "\n",
    "        real_labels = torch.ones(batch_size, 1)\n",
    "        fake_labels = torch.zeros(batch_size, 1)\n",
    "\n",
    "        noise_samples = torch.randn(batch_size, latent_space)\n",
    "        fake_samples = generator(noise_samples, labels)\n",
    "\n",
    "        real_predict = discriminator(real_samples, labels)\n",
    "        fake_predict = discriminator(fake_samples, labels)\n",
    "\n",
    "        real_loss = loss_function(real_predict, real_labels)\n",
    "        fake_loss = loss_function(fake_predict, fake_labels)\n",
    "\n",
    "        total_loss = real_loss + fake_loss\n",
    "\n",
    "        optimizer_discriminator.zero_grad()\n",
    "        total_loss.backward()\n",
    "        optimizer_discriminator.step()\n",
    "\n",
    "        generated_samples = generator(noise_samples, labels)\n",
    "        generated_predict = discriminator(generated_samples, labels)\n",
    "        generated_loss = loss_function(generated_predict, real_labels)\n",
    "\n",
    "        optimizer_generator.zero_grad()\n",
    "        generated_loss.backward()\n",
    "        optimizer_generator.step()\n",
    "\n",
    "        d_loss.append(total_loss.item())\n",
    "        g_loss.append(generated_loss.item())\n",
    "\n",
    "    discriminator_loss.append(np.array(d_loss).mean())\n",
    "    generator_loss.append(np.array(g_loss).mean())\n",
    "\n",
    "    print(f\"Epoch [{epoch + 1}/{epochs}] Completed\")\n",
    "    print(\n",
    "        f\"[==============] Average d_loss: {(np.array(d_loss).mean()):.4f} - Average g_loss: {(np.array(g_loss).mean()):.4f}\"\n",
    "    )"
   ]
  },
  {
   "cell_type": "code",
   "execution_count": 14,
   "metadata": {},
   "outputs": [],
   "source": [
    "label_names = [\n",
    "    \"Class 0\",\n",
    "    \"Class 1\",\n",
    "    \"Class 2\",\n",
    "    \"Class 3\",\n",
    "    \"Class 4\",\n",
    "    \"Class 5\",\n",
    "    \"Class 6\",\n",
    "    \"Class 7\",\n",
    "    \"Class 8\",\n",
    "    \"Class 9\",\n",
    "]"
   ]
  },
  {
   "cell_type": "code",
   "execution_count": 17,
   "metadata": {},
   "outputs": [
    {
     "data": {
      "image/png": "[encoded data removed]",
      "text/plain": [
       "<Figure size 1000x500 with 10 Axes>"
      ]
     },
     "metadata": {},
     "output_type": "display_data"
    }
   ],
   "source": [
    "import matplotlib.pyplot as plt\n",
    "\n",
    "# Set the number of samples you want to generate\n",
    "num_samples = 10\n",
    "num_labels = 10\n",
    "# Generate noise vectors\n",
    "fixed_noise = torch.randn(num_samples, latent_space)\n",
    "\n",
    "# Generate labels for conditional generation\n",
    "# Here, I'm generating random labels. You can specify labels if you want to generate specific images\n",
    "fixed_labels = torch.randint(0, num_labels, (num_samples,))  # Random labels\n",
    "\n",
    "# Generate images\n",
    "with torch.no_grad():  # We don't need to track gradients here\n",
    "    generator.eval()  # Set the generator to evaluation mode\n",
    "    fake_images = generator(fixed_noise, fixed_labels).detach().cpu()\n",
    "    generator.train()  # Set the generator back to train mode\n",
    "\n",
    "# Plot the fake images\n",
    "plt.figure(figsize=(10, 5))\n",
    "for i in range(num_samples):\n",
    "    plt.subplot(2, num_samples // 2, i + 1)\n",
    "    plt.imshow(fake_images[i].view(28,28), cmap=\"gray\")\n",
    "    plt.title(\n",
    "        label_names[fixed_labels[i]]\n",
    "    )  # Set the title to the corresponding label name\n",
    "    plt.axis(\"off\")\n",
    "plt.tight_layout()\n",
    "plt.show()"
   ]
  },
  {
   "cell_type": "code",
   "execution_count": null,
   "metadata": {},
   "outputs": [
    {
     "data": {
      "text/plain": [
       "torch.Size([28, 28])"
      ]
     },
     "execution_count": 79,
     "metadata": {},
     "output_type": "execute_result"
    }
   ],
   "source": [
    "fake_images[1][0].shape"
   ]
  },
  {
   "cell_type": "code",
   "execution_count": null,
   "metadata": {},
   "outputs": [
    {
     "data": {
      "text/plain": [
       "tensor([4, 3, 4, 8, 2, 3, 0, 1, 2, 5])"
      ]
     },
     "execution_count": 81,
     "metadata": {},
     "output_type": "execute_result"
    }
   ],
   "source": [
    "fixed_labels"
   ]
  },
  {
   "cell_type": "code",
   "execution_count": null,
   "metadata": {},
   "outputs": [],
   "source": []
  }
 ],
 "metadata": {
  "kernelspec": {
   "display_name": "GPSG",
   "language": "python",
   "name": "python3"
  },
  "language_info": {
   "codemirror_mode": {
    "name": "ipython",
    "version": 3
   },
   "file_extension": ".py",
   "mimetype": "text/x-python",
   "name": "python",
   "nbconvert_exporter": "python",
   "pygments_lexer": "ipython3",
   "version": "3.9.18"
  }
 },
 "nbformat": 4,
 "nbformat_minor": 2
}
