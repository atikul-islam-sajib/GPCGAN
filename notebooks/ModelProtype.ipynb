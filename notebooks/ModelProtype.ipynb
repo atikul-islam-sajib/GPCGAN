{
 "cells": [
  {
   "cell_type": "code",
   "execution_count": 46,
   "metadata": {},
   "outputs": [],
   "source": [
    "import warnings\n",
    "warnings.filterwarnings(\"ignore\")\n",
    "\n",
    "import numpy as np\n",
    "import pandas as pd\n",
    "import matplotlib.pyplot as plt\n",
    "import torch\n",
    "import torch.nn as nn\n",
    "import torch.optim as optim\n",
    "from torchvision import datasets, transforms\n",
    "from torch.utils.data import DataLoader\n",
    "from collections import OrderedDict"
   ]
  },
  {
   "cell_type": "code",
   "execution_count": 47,
   "metadata": {},
   "outputs": [],
   "source": [
    "# Download the dataset\n",
    "transform = transforms.Compose(\n",
    "    [transforms.ToTensor(), transforms.Normalize((0.5,), (0.5,))]\n",
    ")\n",
    "\n",
    "mnist_data = datasets.MNIST(\n",
    "    root=\"../data/raw/\",\n",
    "    train=True,\n",
    "    transform=transforms.ToTensor(),\n",
    "    download=True,\n",
    ")\n",
    "dataloader = DataLoader(mnist_data, batch_size=64, shuffle=True)"
   ]
  },
  {
   "cell_type": "code",
   "execution_count": 48,
   "metadata": {},
   "outputs": [
    {
     "name": "stdout",
     "output_type": "stream",
     "text": [
      "The total quantity of the dataset # 60000\n",
      "The shape of the dataset # torch.Size([32, 1, 28, 28]) \n"
     ]
    }
   ],
   "source": [
    "# check the quantity of the dataset\n",
    "total_data = 0\n",
    "\n",
    "for data, label in dataloader:\n",
    "    total_data+=data.shape[0]\n",
    "\n",
    "print(\"The total quantity of the dataset # {}\".format(total_data))\n",
    "print(\"The shape of the dataset # {} \".format(data.shape))"
   ]
  },
  {
   "cell_type": "code",
   "execution_count": 49,
   "metadata": {},
   "outputs": [
    {
     "name": "stdout",
     "output_type": "stream",
     "text": [
      "Device # mps \n"
     ]
    }
   ],
   "source": [
    "# Call the GPU - MAC\n",
    "device = torch.device(\"mps\" if torch.backends.mps.is_available() else \"cpu\")\n",
    "\n",
    "print(\"Device # {} \".format(device))"
   ]
  },
  {
   "cell_type": "code",
   "execution_count": 50,
   "metadata": {},
   "outputs": [],
   "source": [
    "class Generator(nn.Module):\n",
    "    \"\"\"\n",
    "    A generator class for a Generative Adversarial Network (GAN), particularly used for\n",
    "    generating images. It takes a latent space vector and a label as input and generates\n",
    "    images corresponding to the input label. It utilizes fully connected layers and\n",
    "    LeakyReLU activation for intermediate layers, with a Tanh activation for the output layer.\n",
    "\n",
    "    Attributes:\n",
    "        latent_space (int): Dimensionality of the latent space vector (z), which is a random\n",
    "                            noise input for the generator.\n",
    "        num_labels (int): Number of unique labels for the conditional GAN. It corresponds to\n",
    "                          the number of different classes in the dataset.\n",
    "        labels (nn.Embedding): Embedding layer for the labels, allowing the generator to use\n",
    "                               label information to generate images corresponding to specific classes.\n",
    "        layers_config (list): A list defining the architecture of the neural network. Each\n",
    "                              element in the list is a tuple, with the first two elements\n",
    "                              being the number of input and output features for a layer,\n",
    "                              and the optional third being the negative slope for LeakyReLU.\n",
    "        model (nn.Sequential): The actual neural network model, constructed based on layers_config.\n",
    "                               It comprises fully connected (Linear) layers, LeakyReLU activation\n",
    "                               for non-linearity in intermediate layers, and a Tanh activation function\n",
    "                               in the output layer for generating pixel values.\n",
    "\n",
    "    Methods:\n",
    "        connected_layer(layers_config=None):\n",
    "            Constructs the neural network layers based on layers_config. It initializes the fully\n",
    "            connected layers and the activation functions, specifically using LeakyReLU for intermediate\n",
    "            layers and Tanh for the output layer.\n",
    "\n",
    "        forward(x, labels):\n",
    "            Performs a forward pass of the generator. It takes a latent space vector `x` and its\n",
    "            corresponding labels, processes them through the network, and generates a batch of images.\n",
    "\n",
    "    Note:\n",
    "        - The latent space vector x should be of the shape (N, latent_space) where N is the batch size.\n",
    "        - Labels should be of shape (N,) and contain integers representing class labels.\n",
    "        - The output is a tensor of shape (N, 1, 28, 28), representing generated images of size 28x28 pixels.\n",
    "    \"\"\"\n",
    "\n",
    "    def __init__(self, latent_space=100, num_labels=10):\n",
    "        self.latent_space = latent_space\n",
    "        self.num_labels = num_labels\n",
    "        super(Generator, self).__init__()\n",
    "        self.labels = nn.Embedding(self.num_labels, self.num_labels)\n",
    "        self.layers_config = [\n",
    "            (self.latent_space + self.num_labels, 256, 0.2),\n",
    "            (256, 512, 0.2),\n",
    "            (512, 1024, 0.2),\n",
    "            (1024, 784),\n",
    "        ]\n",
    "        self.model = self.connected_layer(layers_config=self.layers_config)\n",
    "\n",
    "    def connected_layer(self, layers_config=None):\n",
    "        layers = OrderedDict()\n",
    "        if layers_config is not None:\n",
    "            for index, (in_features, out_features, negative_slope) in enumerate(\n",
    "                layers_config[:-1]\n",
    "            ):\n",
    "                layers[\"{}_layer\".format(index)] = nn.Linear(\n",
    "                    in_features=in_features, out_features=out_features\n",
    "                )\n",
    "                layers[\"{}_activation\".format(index)] = nn.LeakyReLU(\n",
    "                    negative_slope=negative_slope\n",
    "                )\n",
    "\n",
    "            (in_features, out_features) = layers_config[-1]\n",
    "            layers[\"output_layer\"] = nn.Linear(\n",
    "                in_features=in_features, out_features=out_features\n",
    "            )\n",
    "            layers[\"output_activation\"] = nn.Tanh()\n",
    "\n",
    "            return nn.Sequential(layers)\n",
    "\n",
    "        else:\n",
    "            raise Exception(\"No layers config provided\".capitalize())\n",
    "\n",
    "    def forward(self, x, labels):\n",
    "        if x is not None:\n",
    "            labels = labels.long()\n",
    "            labels = self.labels(labels)\n",
    "            x = torch.cat([x, labels], dim=1)\n",
    "            x = self.model(x)\n",
    "        else:\n",
    "            raise Exception(\"No input provided in Generator\".capitalize())\n",
    "\n",
    "        return x.reshape(-1, 1, 28, 28)"
   ]
  },
  {
   "cell_type": "code",
   "execution_count": 51,
   "metadata": {},
   "outputs": [
    {
     "name": "stdout",
     "output_type": "stream",
     "text": [
      "TOTAL TRAINABLE PARAMETERS OF GENERATOR # 1489012 \n"
     ]
    }
   ],
   "source": [
    "# Compute the total trainable parameters\n",
    "generator = Generator()\n",
    "\n",
    "total_params = 0\n",
    "for (_, params) in generator.named_parameters():\n",
    "    total_params+=params.numel()\n",
    "\n",
    "print(\"Total trainable parameters of Generator # {} \".format(total_params).upper())"
   ]
  },
  {
   "cell_type": "code",
   "execution_count": 52,
   "metadata": {},
   "outputs": [
    {
     "data": {
      "text/plain": [
       "torch.Size([64, 1, 28, 28])"
      ]
     },
     "execution_count": 52,
     "metadata": {},
     "output_type": "execute_result"
    }
   ],
   "source": [
    "g = Generator()\n",
    "noise_data = torch.randn(64, 100)\n",
    "data, labels = next(iter(dataloader))\n",
    "\n",
    "g(noise_data, labels).shape"
   ]
  },
  {
   "cell_type": "code",
   "execution_count": 53,
   "metadata": {},
   "outputs": [],
   "source": [
    "class Discriminator(nn.Module):\n",
    "    \"\"\"\n",
    "    A discriminator class for a Generative Adversarial Network (GAN), particularly used for\n",
    "    image data with an added conditional label embedding. The discriminator's goal is to\n",
    "    differentiate between real and fake images. It utilizes fully connected layers,\n",
    "    LeakyReLU activation for hidden layers, and a Sigmoid activation for the output layer.\n",
    "\n",
    "    Attributes:\n",
    "        num_labels (int): Number of unique labels for the conditional GAN. For instance,\n",
    "                          in a dataset with 10 different classes, num_labels should be 10.\n",
    "        labels (nn.Embedding): Embedding layer for the labels, which allows the discriminator\n",
    "                               to condition the input on a particular class.\n",
    "        layers_config (list): A list defining the architecture of the neural network. Each\n",
    "                              element in the list is a tuple, with the first two elements\n",
    "                              being the number of input and output features for a layer,\n",
    "                              and the optional third being the negative slope for LeakyReLU.\n",
    "        model (nn.Sequential): The actual neural network model, constructed based on layers_config.\n",
    "                              It comprises fully connected (Linear) layers, LeakyReLU activation\n",
    "                              for non-linearity in hidden layers, and a Sigmoid activation function\n",
    "                              in the output layer to obtain probabilities.\n",
    "\n",
    "    Methods:\n",
    "        connected_layer(layers_config=None):\n",
    "            Constructs the neural network layers based on layers_config. It initializes the fully\n",
    "            connected layers and the activation functions, specifically using LeakyReLU for hidden\n",
    "            layers and Sigmoid for the output layer.\n",
    "\n",
    "        forward(x, labels):\n",
    "            Performs a forward pass of the discriminator. It takes an input batch of images `x`\n",
    "            and their corresponding labels, processes the images and labels through the network,\n",
    "            and outputs a batch of probabilities indicating how likely each image is to be real.\n",
    "\n",
    "    Note:\n",
    "        - The model expects inputs x to be of the shape (N, 784) where N is the batch size.\n",
    "        - Labels should be of shape (N,) and contain integers representing class labels.\n",
    "        - The output is of shape (N, 1), representing the likelihood of each image being real.\n",
    "        - The network architecture is designed to work with flattened images of size 28x28 pixels.\n",
    "    \"\"\"\n",
    "\n",
    "    def __init__(self, num_labels=10):\n",
    "        self.num_labels = num_labels\n",
    "        super(Discriminator, self).__init__()\n",
    "        self.labels = nn.Embedding(self.num_labels, self.num_labels)\n",
    "        self.layers_config = [\n",
    "            (784 + self.num_labels, 512, 0.2),\n",
    "            (512, 256, 0.2),\n",
    "            (256, 1),\n",
    "        ]\n",
    "        self.model = self.connected_layer(layers_config=self.layers_config)\n",
    "\n",
    "    def connected_layer(self, layers_config=None):\n",
    "        layers = OrderedDict()\n",
    "        if layers_config is not None:\n",
    "            for index, (in_features, out_features, negative_slope) in enumerate(\n",
    "                layers_config[:-1]\n",
    "            ):\n",
    "                layers[\"{}_layer\".format(index + 1)] = nn.Linear(\n",
    "                    in_features=in_features, out_features=out_features\n",
    "                )\n",
    "                layers[\"{}_activation\".format(index + 1)] = nn.LeakyReLU(\n",
    "                    negative_slope=negative_slope\n",
    "                )\n",
    "\n",
    "            (in_features, out_features) = layers_config[-1]\n",
    "            layers[\"output_layer\"] = nn.Linear(\n",
    "                in_features=in_features, out_features=out_features\n",
    "            )\n",
    "            layers[\"output_activation\"] = nn.Sigmoid()\n",
    "\n",
    "            return nn.Sequential(layers)\n",
    "        else:\n",
    "            raise Exception(\"Layers config is not defined properly\".capitalize())\n",
    "\n",
    "    def forward(self, x, labels):\n",
    "        if x is not None:\n",
    "            labels = labels.long()\n",
    "            labels = self.labels(labels)\n",
    "            x = x.reshape(-1, 28 * 28)\n",
    "            x = torch.cat([x, labels], dim=1)\n",
    "            x = self.model(x)\n",
    "        else:\n",
    "            raise Exception(\"Inputs are not defined properly\".capitalize())\n",
    "\n",
    "        return x"
   ]
  },
  {
   "cell_type": "code",
   "execution_count": 54,
   "metadata": {},
   "outputs": [
    {
     "name": "stdout",
     "output_type": "stream",
     "text": [
      "TOTAL NUMBER OF PARAMETERS OF DISCRIMINATOR # 538725 \n"
     ]
    }
   ],
   "source": [
    "# Compute the total trainable parameters of Discriminator\n",
    "discriminator = Discriminator()\n",
    "total_params = 0\n",
    "\n",
    "for (_, params) in discriminator.named_parameters():\n",
    "    total_params+=params.numel()\n",
    "    \n",
    "print(\"Total number of parameters of Discriminator # {} \".format(total_params).upper())"
   ]
  },
  {
   "cell_type": "code",
   "execution_count": 55,
   "metadata": {},
   "outputs": [
    {
     "data": {
      "text/plain": [
       "torch.Size([64, 1])"
      ]
     },
     "execution_count": 55,
     "metadata": {},
     "output_type": "execute_result"
    }
   ],
   "source": [
    "d = Discriminator()\n",
    "\n",
    "data, label = next(iter(dataloader))\n",
    "d(data, label).shape"
   ]
  },
  {
   "cell_type": "code",
   "execution_count": 56,
   "metadata": {},
   "outputs": [
    {
     "data": {
      "text/plain": [
       "torch.Size([64, 1])"
      ]
     },
     "execution_count": 56,
     "metadata": {},
     "output_type": "execute_result"
    }
   ],
   "source": [
    "d = Discriminator()\n",
    "\n",
    "data = torch.randn(64, 1, 28, 28)\n",
    "\n",
    "d(data, label).shape"
   ]
  },
  {
   "cell_type": "code",
   "execution_count": 57,
   "metadata": {},
   "outputs": [],
   "source": [
    "# Define loss and optimizer\n",
    "loss_function = nn.BCELoss()\n",
    "learning_rate = 0.0002\n",
    "\n",
    "optimizer_generator = optim.Adam(\n",
    "    generator.parameters(), lr=learning_rate, betas=(0.5, 0.999))\n",
    "optimizer_discriminator = optim.Adam(\n",
    "    discriminator.parameters(), lr=learning_rate, betas=(0.5, 0.99))"
   ]
  },
  {
   "cell_type": "code",
   "execution_count": 61,
   "metadata": {},
   "outputs": [
    {
     "name": "stdout",
     "output_type": "stream",
     "text": [
      "Epochs - 1/50 \n",
      "[===========] d_loss: 1.259218656239897 - g_loss: 1.381320570831868 \n",
      "Epochs - 2/50 \n",
      "[===========] d_loss: 1.229176490037426 - g_loss: 1.3951827795393685 \n",
      "Epochs - 3/50 \n",
      "[===========] d_loss: 1.1860375160347425 - g_loss: 1.5692751345349782 \n",
      "Epochs - 4/50 \n",
      "[===========] d_loss: 1.1229711988968636 - g_loss: 1.789056340387381 \n",
      "Epochs - 5/50 \n",
      "[===========] d_loss: 1.06486146072589 - g_loss: 2.042736592958731 \n",
      "Epochs - 6/50 \n",
      "[===========] d_loss: 1.0051557914153346 - g_loss: 2.258277844518487 \n",
      "Epochs - 7/50 \n",
      "[===========] d_loss: 0.9696998392849334 - g_loss: 2.3721442760180818 \n",
      "Epochs - 8/50 \n",
      "[===========] d_loss: 0.9466294205900448 - g_loss: 2.436720581832471 \n",
      "Epochs - 9/50 \n",
      "[===========] d_loss: 0.9165750598983724 - g_loss: 2.608846916954146 \n",
      "Epochs - 10/50 \n",
      "[===========] d_loss: 0.8811225548926701 - g_loss: 2.626964266874643 \n",
      "Epochs - 11/50 \n",
      "[===========] d_loss: 0.8693595882862616 - g_loss: 2.749076666481205 \n",
      "Epochs - 12/50 \n",
      "[===========] d_loss: 0.9018676238400596 - g_loss: 2.678389543663464 \n",
      "Epochs - 13/50 \n",
      "[===========] d_loss: 0.8597103072000719 - g_loss: 2.843655989241244 \n",
      "Epochs - 14/50 \n",
      "[===========] d_loss: 0.8486459066809368 - g_loss: 2.6724314568901875 \n",
      "Epochs - 15/50 \n",
      "[===========] d_loss: 0.8614963538356936 - g_loss: 2.8278353512922583 \n",
      "Epochs - 16/50 \n",
      "[===========] d_loss: 0.8640924980963217 - g_loss: 2.848145838231166 \n",
      "Epochs - 17/50 \n",
      "[===========] d_loss: 0.8139660483611418 - g_loss: 2.941266228522319 \n",
      "Epochs - 18/50 \n",
      "[===========] d_loss: 0.8103557846375874 - g_loss: 2.9411014401073903 \n",
      "Epochs - 19/50 \n",
      "[===========] d_loss: 0.816326532314327 - g_loss: 2.888335378312353 \n",
      "Epochs - 20/50 \n",
      "[===========] d_loss: 0.7665610820817541 - g_loss: 3.1096305257475962 \n",
      "Epochs - 21/50 \n",
      "[===========] d_loss: 0.7732876865848549 - g_loss: 3.041199793947785 \n",
      "Epochs - 22/50 \n",
      "[===========] d_loss: 0.7735053171544696 - g_loss: 3.104491907650474 \n",
      "Epochs - 23/50 \n",
      "[===========] d_loss: 0.7226715579406539 - g_loss: 3.13942370231726 \n",
      "Epochs - 24/50 \n",
      "[===========] d_loss: 0.7698030574425959 - g_loss: 3.0543674395790994 \n",
      "Epochs - 25/50 \n",
      "[===========] d_loss: 0.7477354194436755 - g_loss: 3.117772556952576 \n",
      "Epochs - 26/50 \n",
      "[===========] d_loss: 0.7214860793179286 - g_loss: 3.117482667030302 \n",
      "Epochs - 27/50 \n",
      "[===========] d_loss: 0.7206376568277253 - g_loss: 3.167332869221661 \n",
      "Epochs - 28/50 \n",
      "[===========] d_loss: 0.7522718746906151 - g_loss: 3.1948078767831394 \n",
      "Epochs - 29/50 \n",
      "[===========] d_loss: 0.6924337453044045 - g_loss: 3.26651625312976 \n",
      "Epochs - 30/50 \n",
      "[===========] d_loss: 0.6985537819326051 - g_loss: 3.230070656931985 \n",
      "Epochs - 31/50 \n",
      "[===========] d_loss: 0.66804302952437 - g_loss: 3.2199414508429163 \n",
      "Epochs - 32/50 \n",
      "[===========] d_loss: 0.7211653630235302 - g_loss: 3.2140768854094466 \n",
      "Epochs - 33/50 \n",
      "[===========] d_loss: 0.7426591776073106 - g_loss: 3.232675734359318 \n",
      "Epochs - 34/50 \n",
      "[===========] d_loss: 0.631693748173429 - g_loss: 3.3219592496276156 \n",
      "Epochs - 35/50 \n",
      "[===========] d_loss: 0.6675624103307216 - g_loss: 3.4441086444010867 \n",
      "Epochs - 36/50 \n",
      "[===========] d_loss: 0.6451557109922742 - g_loss: 3.4493809172085355 \n",
      "Epochs - 37/50 \n",
      "[===========] d_loss: 0.66381407613312 - g_loss: 3.161806528375093 \n",
      "Epochs - 38/50 \n",
      "[===========] d_loss: 0.6439694840389528 - g_loss: 3.201788943713662 \n",
      "Epochs - 39/50 \n",
      "[===========] d_loss: 0.6188104002396944 - g_loss: 3.3430261730131057 \n",
      "Epochs - 40/50 \n",
      "[===========] d_loss: 0.5708330342256184 - g_loss: 3.69995862423484 \n",
      "Epochs - 41/50 \n",
      "[===========] d_loss: 0.6802774245805069 - g_loss: 3.2236685558422797 \n",
      "Epochs - 42/50 \n",
      "[===========] d_loss: 0.619060391492681 - g_loss: 3.3879827760430032 \n",
      "Epochs - 43/50 \n",
      "[===========] d_loss: 0.6706043498666048 - g_loss: 3.283149499120489 \n",
      "Epochs - 44/50 \n",
      "[===========] d_loss: 0.5487033400867285 - g_loss: 3.5336955282479714 \n",
      "Epochs - 45/50 \n",
      "[===========] d_loss: 0.673038536456348 - g_loss: 3.4595833106844154 \n",
      "Epochs - 46/50 \n",
      "[===========] d_loss: 0.5990097977078037 - g_loss: 3.504066107115512 \n",
      "Epochs - 47/50 \n",
      "[===========] d_loss: 0.5978814277376956 - g_loss: 3.483290907289428 \n",
      "Epochs - 48/50 \n",
      "[===========] d_loss: 0.5914679793184245 - g_loss: 3.339504348570858 \n",
      "Epochs - 49/50 \n",
      "[===========] d_loss: 0.6072538381160449 - g_loss: 3.4940132923217724 \n",
      "Epochs - 50/50 \n",
      "[===========] d_loss: 0.6346799871528835 - g_loss: 3.39223090189098 \n"
     ]
    }
   ],
   "source": [
    "epochs = 50\n",
    "latent_space = 100\n",
    "discriminator_loss = []\n",
    "generator_loss = []\n",
    "\n",
    "for epoch in range(epochs):\n",
    "    d_loss = []\n",
    "    g_loss = []\n",
    "    for real_samples, labels in dataloader:\n",
    "        # Convert labels to long, ensuring they are in the correct format for the embedding layer\n",
    "        labels = labels\n",
    "        batch_size = real_samples.shape[0]\n",
    "\n",
    "        real_labels = torch.ones(batch_size, 1)\n",
    "        fake_labels = torch.zeros(batch_size, 1)\n",
    "\n",
    "        noise_samples = torch.randn(batch_size, latent_space)\n",
    "        fake_samples = generator(noise_samples, labels)\n",
    "\n",
    "        real_predict = discriminator(real_samples, labels)\n",
    "        fake_predict = discriminator(fake_samples, labels)\n",
    "        \n",
    "        real_loss = loss_function(real_predict, real_labels)\n",
    "        fake_loss = loss_function(fake_predict, fake_labels)\n",
    "\n",
    "        total_loss = real_loss + fake_loss\n",
    "\n",
    "        optimizer_discriminator.zero_grad()\n",
    "        total_loss.backward()\n",
    "        optimizer_discriminator.step()\n",
    "\n",
    "        generated_samples = generator(noise_samples, labels)\n",
    "        generated_predict = discriminator(generated_samples, labels)\n",
    "        generated_loss = loss_function(generated_predict, real_labels)\n",
    "\n",
    "        optimizer_generator.zero_grad()\n",
    "        generated_loss.backward()\n",
    "        optimizer_generator.step()\n",
    "\n",
    "        d_loss.append(total_loss.item())\n",
    "        g_loss.append(generated_loss.item())\n",
    "\n",
    "    discriminator_loss.append(np.array(d_loss).mean())\n",
    "    generator_loss.append(np.array(g_loss).mean())\n",
    "\n",
    "    print(\"Epochs - {}/{} \".format(epoch + 1, epochs))\n",
    "    print(\n",
    "        \"[===========] d_loss: {} - g_loss: {} \".format(\n",
    "            np.array(d_loss).mean(), np.array(g_loss).mean()\n",
    "        )\n",
    "    )"
   ]
  },
  {
   "cell_type": "code",
   "execution_count": 72,
   "metadata": {},
   "outputs": [],
   "source": [
    "label_names = [\n",
    "    \"Class 0\",\n",
    "    \"Class 1\",\n",
    "    \"Class 2\",\n",
    "    \"Class 3\",\n",
    "    \"Class 4\",\n",
    "    \"Class 5\",\n",
    "    \"Class 6\",\n",
    "    \"Class 7\",\n",
    "    \"Class 8\",\n",
    "    \"Class 9\",\n",
    "]"
   ]
  },
  {
   "cell_type": "code",
   "execution_count": 82,
   "metadata": {},
   "outputs": [
    {
     "data": {
      "image/png": "[encoded data removed]",
      "text/plain": [
       "<Figure size 1000x500 with 10 Axes>"
      ]
     },
     "metadata": {},
     "output_type": "display_data"
    }
   ],
   "source": [
    "import matplotlib.pyplot as plt\n",
    "\n",
    "# Set the number of samples you want to generate\n",
    "num_samples = 10\n",
    "\n",
    "# Generate noise vectors\n",
    "fixed_noise = torch.randn(num_samples, latent_space)\n",
    "\n",
    "# Generate labels for conditional generation\n",
    "# Here, I'm generating random labels. You can specify labels if you want to generate specific images\n",
    "fixed_labels = torch.randint(0, num_labels, (num_samples,))  # Random labels\n",
    "\n",
    "# Generate images\n",
    "with torch.no_grad():  # We don't need to track gradients here\n",
    "    generator.eval()  # Set the generator to evaluation mode\n",
    "    fake_images = generator(fixed_noise, fixed_labels).detach().cpu()\n",
    "    generator.train()  # Set the generator back to train mode\n",
    "\n",
    "# Plot the fake images\n",
    "plt.figure(figsize=(10, 5))\n",
    "for i in range(num_samples):\n",
    "    plt.subplot(2, num_samples // 2, i + 1)\n",
    "    plt.imshow(fake_images[i].view(28,28))\n",
    "    plt.title(\n",
    "        label_names[fixed_labels[i]]\n",
    "    )  # Set the title to the corresponding label name\n",
    "    plt.axis(\"off\")\n",
    "plt.tight_layout()\n",
    "plt.show()"
   ]
  },
  {
   "cell_type": "code",
   "execution_count": 79,
   "metadata": {},
   "outputs": [
    {
     "data": {
      "text/plain": [
       "torch.Size([28, 28])"
      ]
     },
     "execution_count": 79,
     "metadata": {},
     "output_type": "execute_result"
    }
   ],
   "source": [
    "fake_images[1][0].shape"
   ]
  },
  {
   "cell_type": "code",
   "execution_count": 81,
   "metadata": {},
   "outputs": [
    {
     "data": {
      "text/plain": [
       "tensor([4, 3, 4, 8, 2, 3, 0, 1, 2, 5])"
      ]
     },
     "execution_count": 81,
     "metadata": {},
     "output_type": "execute_result"
    }
   ],
   "source": [
    "fixed_labels"
   ]
  },
  {
   "cell_type": "code",
   "execution_count": null,
   "metadata": {},
   "outputs": [],
   "source": []
  }
 ],
 "metadata": {
  "kernelspec": {
   "display_name": "GPSG",
   "language": "python",
   "name": "python3"
  },
  "language_info": {
   "codemirror_mode": {
    "name": "ipython",
    "version": 3
   },
   "file_extension": ".py",
   "mimetype": "text/x-python",
   "name": "python",
   "nbconvert_exporter": "python",
   "pygments_lexer": "ipython3",
   "version": "3.9.18"
  }
 },
 "nbformat": 4,
 "nbformat_minor": 2
}
